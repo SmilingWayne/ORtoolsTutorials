{
 "cells": [
  {
   "cell_type": "code",
   "execution_count": null,
   "metadata": {},
   "outputs": [],
   "source": [
    "class ParallemMachine:\n",
    "    def __init__(self) -> None:\n",
    "        pass"
   ]
  },
  {
   "cell_type": "code",
   "execution_count": null,
   "metadata": {},
   "outputs": [],
   "source": [
    "# Generate test Case\n",
    "import numpy as np\n",
    "rng = np.random.default_rng()\n",
    "m = 4\n",
    "n = 100\n",
    "w = list(rng.choice(91, n) + 10)\n",
    "p = list(rng.choice(91, n) + 10)\n",
    "print(m)\n",
    "print(n)\n",
    "print(w)\n",
    "print(p)"
   ]
  }
 ],
 "metadata": {
  "language_info": {
   "name": "python"
  }
 },
 "nbformat": 4,
 "nbformat_minor": 2
}
