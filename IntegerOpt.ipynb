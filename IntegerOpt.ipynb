{
 "cells": [
  {
   "cell_type": "markdown",
   "metadata": {},
   "source": [
    "## 整数规划问题的求解"
   ]
  },
  {
   "cell_type": "markdown",
   "metadata": {},
   "source": [
    "简单的整数规划求解"
   ]
  },
  {
   "cell_type": "code",
   "execution_count": 1,
   "metadata": {},
   "outputs": [
    {
     "name": "stdout",
     "output_type": "stream",
     "text": [
      "Number of variables = 2\n",
      "Number of constraints = 2\n",
      "Solving with CP-SAT solver v9.7.2996\n",
      "Solution:\n",
      "Objective value = 23.0\n",
      "x = 3.0\n",
      "y = 2.0\n",
      "\n",
      "Advanced usage:\n",
      "Problem solved in 20.000000 milliseconds\n",
      "Problem solved in 0 iterations\n",
      "Problem solved in 0 branch-and-bound nodes\n"
     ]
    }
   ],
   "source": [
    "from ortools.linear_solver import pywraplp\n",
    "def main():\n",
    "    # 用SCIP后端创建MIP求解器\n",
    "    solver = pywraplp.Solver.CreateSolver(\"SAT\")\n",
    "    if not solver:\n",
    "        return\n",
    "\n",
    "    infinity = solver.infinity()\n",
    "    # X和Y都是非负整数变量\n",
    "    x = solver.IntVar(0.0, infinity, \"x\")\n",
    "    y = solver.IntVar(0.0, infinity, \"y\")\n",
    "\n",
    "    print(\"Number of variables =\", solver.NumVariables())\n",
    "    # x + 7 * y <= 17.5.\n",
    "    solver.Add(x + 7 * y <= 17.5)\n",
    "\n",
    "    # x <= 3.5.\n",
    "    solver.Add(x <= 3.5)\n",
    "\n",
    "    print(\"Number of constraints =\", solver.NumConstraints())\n",
    "\n",
    "    # 目标函数\n",
    "    solver.Maximize(x + 10 * y)\n",
    "\n",
    "    print(f\"Solving with {solver.SolverVersion()}\")\n",
    "    status = solver.Solve()\n",
    "\n",
    "    if status == pywraplp.Solver.OPTIMAL:\n",
    "        print(\"Solution:\")\n",
    "        print(\"Objective value =\", solver.Objective().Value())\n",
    "        print(\"x =\", x.solution_value())\n",
    "        print(\"y =\", y.solution_value())\n",
    "    else:\n",
    "        print(\"The problem does not have an optimal solution.\")\n",
    "\n",
    "    print(\"\\nAdvanced usage:\")\n",
    "    print(\"Problem solved in %f milliseconds\" % solver.wall_time())\n",
    "    print(\"Problem solved in %d iterations\" % solver.iterations())\n",
    "    print(\"Problem solved in %d branch-and-bound nodes\" % solver.nodes())\n",
    "\n",
    "\n",
    "if __name__ == \"__main__\":\n",
    "    main()"
   ]
  },
  {
   "cell_type": "markdown",
   "metadata": {},
   "source": [
    "用列表形式描述整数规划问题\n",
    "\n",
    "> 单个添加约束，步骤太复杂，可以用列表方式快速添加"
   ]
  },
  {
   "cell_type": "code",
   "execution_count": null,
   "metadata": {},
   "outputs": [
    {
     "name": "stdout",
     "output_type": "stream",
     "text": [
      "Number of variables = 5\n",
      "Number of constraints = 4\n",
      "Objective value = 259.99999999999966\n",
      "x[0]  =  8.0\n",
      "x[1]  =  21.0\n",
      "x[2]  =  0.0\n",
      "x[3]  =  2.0\n",
      "x[4]  =  3.0\n",
      "\n",
      "Problem solved in 48.000000 milliseconds\n",
      "Problem solved in 71 iterations\n",
      "Problem solved in 7 branch-and-bound nodes\n"
     ]
    }
   ],
   "source": [
    "from ortools.linear_solver import pywraplp\n",
    "\n",
    "\n",
    "def create_data_model():\n",
    "    \"\"\"用dict来存储模型的数据\"\"\"\n",
    "    data = {}\n",
    "    data[\"constraint_coeffs\"] = [\n",
    "        [5, 7, 9, 2, 1],\n",
    "        [18, 4, -9, 10, 12],\n",
    "        [4, 7, 3, 8, 5],\n",
    "        [5, 13, 16, 3, -7],\n",
    "    ]\n",
    "    data[\"bounds\"] = [250, 285, 211, 315]\n",
    "    data[\"obj_coeffs\"] = [7, 8, 2, 9, 6]\n",
    "    data[\"num_vars\"] = 5\n",
    "    data[\"num_constraints\"] = 4\n",
    "    return data\n",
    "\n",
    "\n",
    "\n",
    "def main():\n",
    "    data = create_data_model()\n",
    "    # 用SCIP方法创建 MIP 求解器\n",
    "    solver = pywraplp.Solver.CreateSolver(\"SCIP\")\n",
    "    if not solver:\n",
    "        return\n",
    "\n",
    "    infinity = solver.infinity()\n",
    "    x = {}\n",
    "    for j in range(data[\"num_vars\"]):\n",
    "        x[j] = solver.IntVar(0, infinity, \"x[%i]\" % j)\n",
    "    print(\"Number of variables =\", solver.NumVariables())\n",
    "\n",
    "    for i in range(data[\"num_constraints\"]):\n",
    "        # 可以灵活地用遍历列表的方式给参数赋值，这里RowConstraint对应前面说的MakeRowConstraint方法\n",
    "        constraint = solver.RowConstraint(0, data[\"bounds\"][i], \"\")\n",
    "        for j in range(data[\"num_vars\"]):\n",
    "            constraint.SetCoefficient(x[j], data[\"constraint_coeffs\"][i][j])\n",
    "    print(\"Number of constraints =\", solver.NumConstraints())\n",
    "    # 也可以使用如下方法创建约束\n",
    "    # for i in range(data['num_constraints']):\n",
    "    #  constraint_expr = \\\n",
    "    # [data['constraint_coeffs'][i][j] * x[j] for j in range(data['num_vars'])]\n",
    "    #  solver.Add(sum(constraint_expr) <= data['bounds'][i])\n",
    "\n",
    "    objective = solver.Objective()\n",
    "    for j in range(data[\"num_vars\"]):\n",
    "        objective.SetCoefficient(x[j], data[\"obj_coeffs\"][j])\n",
    "    objective.SetMaximization()\n",
    "    # 也可以使用如下方法设置目标函数\n",
    "    # obj_expr = [data['obj_coeffs'][j] * x[j] for j in range(data['num_vars'])]\n",
    "    # solver.Maximize(solver.Sum(obj_expr))\n",
    "\n",
    "    status = solver.Solve()\n",
    "    # 输出求解结果\n",
    "    if status == pywraplp.Solver.OPTIMAL:\n",
    "        print(\"Objective value =\", solver.Objective().Value())\n",
    "        for j in range(data[\"num_vars\"]):\n",
    "            print(x[j].name(), \" = \", x[j].solution_value())\n",
    "        print()\n",
    "        print(\"Problem solved in %f milliseconds\" % solver.wall_time())\n",
    "        print(\"Problem solved in %d iterations\" % solver.iterations())\n",
    "        print(\"Problem solved in %d branch-and-bound nodes\" % solver.nodes())\n",
    "    else:\n",
    "        print(\"The problem does not have an optimal solution.\")\n",
    "\n",
    "\n",
    "if __name__ == \"__main__\":\n",
    "    main()"
   ]
  },
  {
   "cell_type": "code",
   "execution_count": null,
   "metadata": {},
   "outputs": [],
   "source": []
  }
 ],
 "metadata": {
  "kernelspec": {
   "display_name": "py310",
   "language": "python",
   "name": "python3"
  },
  "language_info": {
   "codemirror_mode": {
    "name": "ipython",
    "version": 3
   },
   "file_extension": ".py",
   "mimetype": "text/x-python",
   "name": "python",
   "nbconvert_exporter": "python",
   "pygments_lexer": "ipython3",
   "version": "3.10.12"
  },
  "orig_nbformat": 4
 },
 "nbformat": 4,
 "nbformat_minor": 2
}
