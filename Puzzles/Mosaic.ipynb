{
 "cells": [
  {
   "cell_type": "markdown",
   "metadata": {},
   "source": [
    "--------\n",
    "\n",
    "# 解决思维谜题：“马赛克”\n",
    "\n",
    "马赛克 是一种类似扫雷的变体逻辑谜题.\n",
    "\n",
    "- 你需要涂黑一些方格. \n",
    "- 数字表示包括它所在方格在内及周围一共九个方格内涂黑的方格数. \n",
    "\n",
    "\n",
    "> 注意这个和数独不大相同，因为可能存在数字为0的情况（九宫格没有涂黑的元素）。"
   ]
  },
  {
   "cell_type": "code",
   "execution_count": 1,
   "metadata": {},
   "outputs": [
    {
     "name": "stdout",
     "output_type": "stream",
     "text": [
      "400\n",
      "1 1 0 1 0 0 1 1 0 1 0 1 1 1 1 1 0 0 0 1 \n",
      "0 0 0 0 1 1 1 0 0 1 0 0 1 1 1 1 0 0 1 0 \n",
      "1 0 1 0 0 1 0 1 1 1 0 0 1 1 0 0 0 0 1 1 \n",
      "1 0 0 1 1 0 1 1 0 0 0 1 0 1 1 0 0 1 1 0 \n",
      "1 0 1 1 1 1 1 0 1 1 1 1 1 0 0 1 1 1 0 1 \n",
      "0 0 1 1 1 0 1 0 1 1 0 1 0 0 1 1 1 1 1 0 \n",
      "0 1 1 0 1 1 0 0 0 1 1 1 0 0 1 0 0 0 0 1 \n",
      "1 0 1 1 1 0 1 1 1 0 1 0 1 1 0 0 0 1 1 0 \n",
      "0 0 0 0 0 0 0 0 0 1 1 0 0 0 1 1 0 0 1 0 \n",
      "0 1 1 0 0 1 0 1 0 1 1 0 1 1 0 0 1 1 0 1 \n",
      "0 1 0 1 0 0 1 0 0 1 0 0 0 1 0 0 1 0 1 0 \n",
      "0 0 0 0 1 1 0 0 1 0 1 0 1 1 1 0 0 0 1 0 \n",
      "1 0 0 1 1 0 1 1 0 1 1 1 0 0 1 1 1 1 0 1 \n",
      "0 1 0 1 1 1 1 1 1 0 0 0 0 1 1 0 1 0 1 0 \n",
      "0 1 1 0 1 1 0 0 1 0 0 1 1 0 0 1 1 1 1 0 \n",
      "0 0 1 0 1 1 1 0 1 0 0 1 0 1 1 0 0 1 0 1 \n",
      "0 0 1 0 0 0 1 0 0 1 0 1 1 1 1 1 0 0 0 1 \n",
      "0 0 0 1 0 1 0 1 1 0 1 1 1 0 0 1 1 1 1 1 \n",
      "0 1 0 1 1 1 0 0 0 0 0 0 0 1 1 0 0 1 0 1 \n",
      "1 1 0 1 1 1 1 0 1 0 1 0 0 0 1 0 0 0 1 0 \n",
      "\n",
      "NumConflicts: 1\n",
      "NumBranches: 190\n",
      "WallTime: 0.016482\n"
     ]
    }
   ],
   "source": [
    "from __future__ import print_function\n",
    "from ortools.sat.python import cp_model as cp\n",
    "def GetNinePossibleNeighbours(X, Y, pos):\n",
    "    \n",
    "    neighbours = []\n",
    "    directions = [-1, 0, 1]\n",
    "    \n",
    "    for ydir in directions:\n",
    "        for xdir in directions:\n",
    "            if (pos[0] + ydir >= Y or pos[0] + ydir < 0) or (pos[1] + xdir >= X or pos[1] + xdir < 0):\n",
    "                continue\n",
    "            neighbours.append((pos[0] + ydir, pos[1] + xdir))\n",
    "    \n",
    "    return neighbours\n",
    "\n",
    "def MosaicSolver(X, Y, grid):\n",
    "    print(len(grid))\n",
    "    if len(grid) != X*Y:\n",
    "        raise Exception(\"Grid 的网格和XY不符\")\n",
    "\n",
    "    model = cp.CpModel()\n",
    "    x = {}\n",
    "    for i in range(Y):\n",
    "        for j in range(X):\n",
    "            x[i, j] = model.NewBoolVar(name = f\"x[{i}, {j}]\")\n",
    "    \n",
    "    for idx, num in enumerate(grid):\n",
    "        \n",
    "        if num not in \"0123456789*\":\n",
    "            raise Exception(\"检查输入格式, 只允许输入字符, 0123456789*\")\n",
    "        \n",
    "        if num in \"0123456789\":\n",
    "            x_idx , y_idx = idx % X, idx // Y\n",
    "            neighbours = GetNinePossibleNeighbours(X, Y, (y_idx, x_idx))\n",
    "            cage = [x[i[0], i[1]] for i in neighbours]\n",
    "            model.Add(sum(cage) == int(num))\n",
    "    \n",
    "    solver = cp.CpSolver()\n",
    "    status = solver.Solve(model)\n",
    "    \n",
    "    if status == cp.OPTIMAL:\n",
    "        for i in range(Y):\n",
    "            for j in range(X):\n",
    "                print(solver.Value(x[i, j]), end=\" \")\n",
    "            print()\n",
    "        print()\n",
    "        \n",
    "        print(\"NumConflicts:\", solver.NumConflicts())\n",
    "        print(\"NumBranches:\", solver.NumBranches())\n",
    "        print(\"WallTime:\", solver.WallTime())\n",
    "    \n",
    "    else:\n",
    "        print(\"Can't find Optimal.\")\n",
    "    \n",
    "if __name__ == \"__main__\":\n",
    "    iptStr = \"222*3**33***5**4****34*****564447874224*2*245**5*3*36*6*245*3*46*****5*5**43456***58**56*****4*6*76*25**77*4**86***6655**5*8**455**54*44455***45**334**53*4**343244*334******54*455**3**22*24***3*4*4*****43**4*454**6*33*4*223********4*****5****357*6****4*666454*345*7****444**5*775**45*7**64*2355**565*1445464*****7***545*0****5*5***6***5*46**24**4*33**56*6*546****586543**434***56**3***532***1*332123*\"\n",
    "    \n",
    "    MosaicSolver(20,20, iptStr)\n",
    "\n",
    "    "
   ]
  },
  {
   "cell_type": "markdown",
   "metadata": {},
   "source": [
    "![](../assets/figures/Mosaic.png)\n",
    "\n",
    "![](../assets/figures/Mosaic2.png)"
   ]
  },
  {
   "cell_type": "code",
   "execution_count": null,
   "metadata": {},
   "outputs": [],
   "source": []
  }
 ],
 "metadata": {
  "kernelspec": {
   "display_name": "py310",
   "language": "python",
   "name": "python3"
  },
  "language_info": {
   "codemirror_mode": {
    "name": "ipython",
    "version": 3
   },
   "file_extension": ".py",
   "mimetype": "text/x-python",
   "name": "python",
   "nbconvert_exporter": "python",
   "pygments_lexer": "ipython3",
   "version": "3.10.12"
  }
 },
 "nbformat": 4,
 "nbformat_minor": 2
}
