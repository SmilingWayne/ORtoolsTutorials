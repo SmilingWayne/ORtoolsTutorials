{
 "cells": [
  {
   "cell_type": "markdown",
   "metadata": {},
   "source": [
    "# Hitori\n",
    "\n",
    "The rules of Hitori are simple:\n",
    "You have to shade some of the cells of the grid according to the rules:\n",
    "- No number should appear unshaded more than once in a row or a column.\n",
    "- 2 black cells cannot be adjacent horizontally or vertically.\n",
    "- All non-shaded cells should be connected in a single group by vertical or horizontal motion.\n",
    "\n"
   ]
  },
  {
   "cell_type": "code",
   "execution_count": 2,
   "metadata": {},
   "outputs": [
    {
     "name": "stdout",
     "output_type": "stream",
     "text": [
      "5\n",
      "5\n",
      "[[1, 3, 2, 5, 5], [1, 4, 5, 5, 1], [3, 5, 1, 3, 4], [3, 1, 1, 3, 2], [4, 2, 5, 1, 2]]\n"
     ]
    }
   ],
   "source": [
    "def readGrid(path):\n",
    "    with open(f\"../assets/data/hitori/{path}.txt\") as f:\n",
    "        num = f.readline()\n",
    "        m, n = num.split(\" \")[0], num.split(\" \")[1]\n",
    "        grid = f.readlines()\n",
    "        res = [list(map(int, g.strip().split(\" \"))) for g in grid]\n",
    "        return int(m), int(n), res\n",
    "\n",
    "if __name__ == \"__main__\":\n",
    "    m, n, res = readGrid(\"5x5_1\")\n",
    "    \n",
    "    print(m)\n",
    "    print(n)\n",
    "    print(res)"
   ]
  },
  {
   "cell_type": "code",
   "execution_count": null,
   "metadata": {},
   "outputs": [],
   "source": []
  }
 ],
 "metadata": {
  "kernelspec": {
   "display_name": "py310",
   "language": "python",
   "name": "python3"
  },
  "language_info": {
   "codemirror_mode": {
    "name": "ipython",
    "version": 3
   },
   "file_extension": ".py",
   "mimetype": "text/x-python",
   "name": "python",
   "nbconvert_exporter": "python",
   "pygments_lexer": "ipython3",
   "version": "3.10.12"
  }
 },
 "nbformat": 4,
 "nbformat_minor": 2
}
