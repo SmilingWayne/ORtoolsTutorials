{
 "cells": [
  {
   "cell_type": "markdown",
   "metadata": {},
   "source": [
    "# Linesweeper \n",
    "\n",
    "The task is to create a single continuous non-intersecting loop that connects the centers of the grid cells.\n",
    "\n",
    "The numbered cells cannot be passed through; the number in the cell indicates how many of the eight surrounding cells should contain some part of the solution path. \n",
    "\n",
    "For example, a \"O\" clue means that the 8 surrounding cells can't be\n",
    "passed through by the loop at all.\n",
    "\n"
   ]
  }
 ],
 "metadata": {
  "language_info": {
   "name": "python"
  }
 },
 "nbformat": 4,
 "nbformat_minor": 2
}
