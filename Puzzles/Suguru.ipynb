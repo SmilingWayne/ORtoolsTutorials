{
 "cells": [
  {
   "cell_type": "markdown",
   "metadata": {},
   "source": [
    "# Suguru \n",
    "\n",
    "\n",
    "> 规则：\n",
    "\n",
    "- 每个大小为 $n$ 的区域必须包含从 1 到 n 的所有数字；\n",
    "- 相邻的格子不能有同样的数字。这里的相邻格子指的是水平、竖直和对角线相邻的 8 个格子（如果有8个的话）。\n",
    "\n",
    "> Rules: \n",
    "\n",
    "\n",
    "- Every region must contain the digits from 1 to the number of cells within that region.\n",
    "- Neighbouring cells(When we talk about neighbouring cells in suguru, we mean any cell that touches another horizontally, vertically, or diagonally, 8 cells(if valid) in total) cannot contain the same digit.\n",
    "\n",
    "<https://puzzlegenius.org/suguru-from-scratch/>\n",
    "\n",
    "\n"
   ]
  },
  {
   "cell_type": "markdown",
   "metadata": {},
   "source": []
  }
 ],
 "metadata": {
  "language_info": {
   "name": "python"
  }
 },
 "nbformat": 4,
 "nbformat_minor": 2
}
