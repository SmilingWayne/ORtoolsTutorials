{
 "cells": [
  {
   "cell_type": "markdown",
   "metadata": {},
   "source": [
    "# kakuro\n",
    "\n",
    "1. Each cell can contain numbers from 1 through 9\n",
    "2. The clues in the black cells tells the sum of the numbers next to that clue. (on the right or down)\n",
    "3. The numbers in consecutive white cells must be unique.\n",
    "\n",
    "-----\n",
    "\n"
   ]
  }
 ],
 "metadata": {
  "language_info": {
   "name": "python"
  }
 },
 "nbformat": 4,
 "nbformat_minor": 2
}
