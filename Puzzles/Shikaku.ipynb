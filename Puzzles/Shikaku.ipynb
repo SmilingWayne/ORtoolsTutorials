{
 "cells": [
  {
   "cell_type": "code",
   "execution_count": 2,
   "metadata": {},
   "outputs": [],
   "source": [
    "import random\n",
    "import networkx as nx\n",
    "import numpy as np\n",
    "import matplotlib.pyplot as plt\n",
    "import math\n",
    "import gurobipy as grb\n",
    "import numpy as np\n",
    "import os\n",
    "from matplotlib.pyplot import MultipleLocator\n",
    "from matplotlib.patches import Rectangle"
   ]
  },
  {
   "cell_type": "code",
   "execution_count": 4,
   "metadata": {},
   "outputs": [
    {
     "name": "stdout",
     "output_type": "stream",
     "text": [
      "READING FILE ../assets/data/Shikaku/12x12_1.txt\n",
      "[[0, 3, 0, 0, 0, 0, 0, 0, 0, 0, 0, 2], [0, 0, 0, 0, 0, 0, 0, 0, 12, 0, 0, 0], [0, 0, 0, 0, 12, 4, 0, 3, 0, 0, 0, 3], [0, 12, 0, 0, 0, 0, 0, 0, 0, 4, 0, 0], [0, 0, 0, 0, 0, 0, 0, 6, 0, 0, 2, 0], [8, 0, 0, 0, 0, 0, 2, 2, 0, 0, 8, 0], [0, 0, 0, 3, 0, 0, 0, 0, 0, 0, 0, 0], [0, 2, 0, 0, 6, 0, 0, 0, 2, 0, 2, 0], [0, 0, 0, 0, 0, 0, 0, 10, 0, 0, 0, 0], [0, 0, 0, 6, 0, 0, 0, 0, 0, 3, 0, 0], [0, 9, 0, 0, 8, 0, 0, 8, 0, 0, 0, 0], [0, 0, 0, 0, 0, 0, 0, 0, 0, 0, 0, 2]]\n"
     ]
    }
   ],
   "source": [
    "def readInstance(path):\n",
    "    \n",
    "    # 从测试案例中随机选取一个测试案例出来\n",
    "    # file_name = f\"../assets/data/slitherlinkdata/{path}{np.random.randint(1)+1}.txt\"\n",
    "    file_name = f\"../assets/data/Shikaku/{path}.txt\"\n",
    "\n",
    "    m = 0\n",
    "    n = 0\n",
    "    grids = None\n",
    "    print( f\"READING FILE {file_name}\" )\n",
    "    if not os.path.isfile(file_name):\n",
    "        print('File does not exist')\n",
    "    else:\n",
    "        # keys = ['m', 'n', 'w', 'p']\n",
    "        # d = dict()\n",
    "        \n",
    "        with open(file_name) as file:\n",
    "            firstline = file.readline().strip().split(\" \")\n",
    "            m = int(firstline[0])\n",
    "            n = int(firstline[1])\n",
    "            grids = [[0 for _ in range(n)] for _ in range(m)]\n",
    "\n",
    "            for idx in range(m):\n",
    "                line = file.readline().strip().split(\" \")\n",
    "                assert len(line) == n\n",
    "                \n",
    "                for j in range(n):\n",
    "                    if line[j] != '.':\n",
    "                        grids[idx][j] = int(line[j])\n",
    "    return m, n, grids\n",
    "\n",
    "if __name__ == \"__main__\":\n",
    "    # data = \"30x25normal1\"\n",
    "    data = \"12x12_1\"\n",
    "    m, n, grids = readInstance(data)\n",
    "    print(grids)"
   ]
  },
  {
   "cell_type": "code",
   "execution_count": 7,
   "metadata": {},
   "outputs": [
    {
     "name": "stdout",
     "output_type": "stream",
     "text": [
      "[0, 3, 0, 0, 0, 0, 0, 0, 0, 0, 0, 2]\n",
      "[0, 0, 0, 0, 0, 0, 0, 0, 12, 0, 0, 0]\n",
      "[0, 0, 0, 0, 12, 4, 0, 3, 0, 0, 0, 3]\n",
      "[0, 12, 0, 0, 0, 0, 0, 0, 0, 4, 0, 0]\n",
      "[0, 0, 0, 0, 0, 0, 0, 6, 0, 0, 2, 0]\n",
      "[8, 0, 0, 0, 0, 0, 2, 2, 0, 0, 8, 0]\n",
      "[0, 0, 0, 3, 0, 0, 0, 0, 0, 0, 0, 0]\n",
      "[0, 2, 0, 0, 6, 0, 0, 0, 2, 0, 2, 0]\n",
      "[0, 0, 0, 0, 0, 0, 0, 10, 0, 0, 0, 0]\n",
      "[0, 0, 0, 6, 0, 0, 0, 0, 0, 3, 0, 0]\n",
      "[0, 9, 0, 0, 8, 0, 0, 8, 0, 0, 0, 0]\n",
      "[0, 0, 0, 0, 0, 0, 0, 0, 0, 0, 0, 2]\n"
     ]
    }
   ],
   "source": [
    "for g in grids:\n",
    "    print(g)"
   ]
  },
  {
   "cell_type": "code",
   "execution_count": null,
   "metadata": {},
   "outputs": [],
   "source": [
    "def checkInput(grid, i, j):\n",
    "    \n",
    "    pass"
   ]
  },
  {
   "cell_type": "markdown",
   "metadata": {},
   "source": [
    "$x[i, j, k]$: 属于方格  [i, j] 内的第 k 种摆放\n",
    "\n",
    "思路如下：针对每一个包含数字的格，输出所有可行的摆放位置。\n",
    "\n",
    "想象成在一个格子里放入不同的变量\n",
    "\n",
    "-> 子问题：怎么获取一个数字对应的所有可能的Shikaku？\n",
    "\n"
   ]
  },
  {
   "cell_type": "code",
   "execution_count": 12,
   "metadata": {},
   "outputs": [],
   "source": [
    "def getXY(target):\n",
    "    if target == 1:\n",
    "        return [(1,1)]\n",
    "    else:\n",
    "        result = []\n",
    "        for i in range(1, int(math.sqrt(target)) + 1):\n",
    "            if target % i == 0:\n",
    "                result.append((i, target // i))\n",
    "                if i < target // i:\n",
    "                    result.append((target // i, i))\n",
    "        return result\n",
    "                "
   ]
  },
  {
   "cell_type": "code",
   "execution_count": null,
   "metadata": {},
   "outputs": [],
   "source": []
  }
 ],
 "metadata": {
  "kernelspec": {
   "display_name": "py310_arm",
   "language": "python",
   "name": "python3"
  },
  "language_info": {
   "codemirror_mode": {
    "name": "ipython",
    "version": 3
   },
   "file_extension": ".py",
   "mimetype": "text/x-python",
   "name": "python",
   "nbconvert_exporter": "python",
   "pygments_lexer": "ipython3",
   "version": "3.10.14"
  }
 },
 "nbformat": 4,
 "nbformat_minor": 2
}
