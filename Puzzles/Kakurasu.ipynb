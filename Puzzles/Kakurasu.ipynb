{
 "cells": [
  {
   "cell_type": "markdown",
   "metadata": {},
   "source": [
    "# Kakurasu (方阵和)\n",
    "\n",
    "The rules are simple.Kakurasu is played on a rectangular grid with no standard size.\n",
    "The goal is to make some of the cells black in such a way that:\n",
    "1. The black cells on each row sum up to the number on the right.\n",
    "2. The black cells on each column sum up to the number on the bottom.\n",
    "3. If a black cell is first on its row/column its value is 1. If it is second its value is 2 etc. \n",
    "\n",
    "\n",
    "------\n",
    "\n",
    "\n",
    "方阵和的游戏版面是任何大小的长方形，每个方格均有两个分数 (分别写于左方及上方)。每个方格中只有两个可能性：黑或白。游戏目标为决定每一格的黑白。\n",
    "\n",
    "1. 每个横列/直栏的第一格有1分，第二格有2分，如此类推\n",
    "2. 涂黑的方格才会计算分数\n",
    "3. 右边的数字是该横列的分数总和\n",
    "4. 下方的数字是该直栏的分数总和\n",
    "\n",
    "<https://www.puzzle-kakurasu.com>\n",
    "\n"
   ]
  },
  {
   "cell_type": "code",
   "execution_count": 2,
   "metadata": {},
   "outputs": [
    {
     "name": "stdout",
     "output_type": "stream",
     "text": [
      "FOUND OPTIMAL\n",
      ". # . . # . . # # # # # \n",
      ". # # # # # # . # # # # \n",
      "# . # # . # . # # . . . \n",
      ". # . # . # # # # . # # \n",
      "# # # # # # # # # . # # \n",
      ". # # # # # # . . # # # \n",
      "# # # # # # # # # . # # \n",
      ". . # . # # # . # . . . \n",
      ". # # . # # # . # # . # \n",
      ". # # # # # # # # . . # \n",
      ". # # . # # # . # # . # \n",
      "# # # # # # # . . # # # \n"
     ]
    }
   ],
   "source": [
    "from ortools.sat.python import cp_model as cp\n",
    "\n",
    "def KakurasuSolver(X, Y):\n",
    "    X = list(map(lambda x: int(x), X.split(\",\")))\n",
    "    Y = list(map(lambda x: int(x), Y.split(\",\")))\n",
    "    X_ = len(X)\n",
    "    Y_ = len(Y)\n",
    "    \n",
    "    model = cp.CpModel()\n",
    "    solver = cp.CpSolver()\n",
    "    x = {}\n",
    "    \n",
    "    \n",
    "    for j in range(Y_):\n",
    "    \n",
    "        for i in range(X_):\n",
    "            x[i, j] = model.NewBoolVar(name = f\"x[{i}, {j}]\")\n",
    "\n",
    "    for row in range(Y_):\n",
    "        current_col_variables = []\n",
    "        for col in range(X_):\n",
    "            current_col_variables.append(x[row, col] * (col + 1))\n",
    "        model.Add(sum(current_col_variables) == Y[row])\n",
    "    \n",
    "    for col in range(X_):\n",
    "        current_row_variables = []\n",
    "        for row in range(Y_):\n",
    "            current_row_variables.append(x[row, col] * (row + 1))\n",
    "        model.Add(sum(current_row_variables) == X[col])\n",
    "            \n",
    "    status = solver.Solve(model)\n",
    "    if status == cp.OPTIMAL:\n",
    "        print(\"FOUND OPTIMAL\")\n",
    "        outputline = \"\"\n",
    "        for i in range(Y_):\n",
    "            for j in range(X_):\n",
    "                if solver.Value(x[i, j]) == 1:\n",
    "                    outputline += \"# \"\n",
    "                else:\n",
    "                    outputline += \". \"\n",
    "                if j % X_ == X_ - 1:\n",
    "                    print(outputline)\n",
    "                    outputline = \"\"\n",
    "                    \n",
    "\n",
    "\n",
    "if __name__ == \"__main__\":\n",
    "\n",
    "    KakurasuSolver(\n",
    "        X = \"27,67,73,49,71,77,74,30,60,41,37,67\",\n",
    "        Y = \"57,69,31,59,68,60,68,30,54,56,54,61\"\n",
    "    )\n"
   ]
  },
  {
   "cell_type": "markdown",
   "metadata": {},
   "source": [
    "![](../assets/figures/Kakurasu1.png)\n",
    "\n",
    "![](../assets/figures/Kakurasu2.png)"
   ]
  },
  {
   "cell_type": "markdown",
   "metadata": {},
   "source": []
  }
 ],
 "metadata": {
  "kernelspec": {
   "display_name": "py310",
   "language": "python",
   "name": "python3"
  },
  "language_info": {
   "codemirror_mode": {
    "name": "ipython",
    "version": 3
   },
   "file_extension": ".py",
   "mimetype": "text/x-python",
   "name": "python",
   "nbconvert_exporter": "python",
   "pygments_lexer": "ipython3",
   "version": "3.10.12"
  }
 },
 "nbformat": 4,
 "nbformat_minor": 2
}
