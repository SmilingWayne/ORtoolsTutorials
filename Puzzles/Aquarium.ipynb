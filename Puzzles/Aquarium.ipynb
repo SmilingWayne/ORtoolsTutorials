{
 "cells": [
  {
   "cell_type": "markdown",
   "metadata": {},
   "source": [
    "# Aquarium (水箱)\n",
    "\n",
    "> The rules of Aquarium are simple:\n",
    "\n",
    "- The puzzle is played on a rectangular grid divided into blocks called \"aquariums\"\n",
    "- You have to \"fill\" the aquariums with water up to a certain level or leave it empty.\n",
    "- The water level in each aquarium is one and the same across its full width\n",
    "- The numbers outside the grid show the number of filled cells horizontally and vertically. \n",
    "\n",
    "-----------\n",
    "\n",
    "> 规则：\n",
    "\n",
    "1. 游戏棋盘被分成几块，每块被称为一个“水箱”；\n",
    "2. 游戏中你可以给每个水箱灌一些水，也可以让它空着；\n",
    "3. 同一个水箱内的水位是等高的。也即同一水箱内的同一行的单元格，要么都有水，要么都空着；\n",
    "4. 棋盘外面的数字是该行或该列，灌水的单元格总数。 "
   ]
  },
  {
   "cell_type": "markdown",
   "metadata": {},
   "source": []
  },
  {
   "cell_type": "code",
   "execution_count": 21,
   "metadata": {},
   "outputs": [
    {
     "name": "stdout",
     "output_type": "stream",
     "text": [
      "FOUND OPTIMAL\n",
      "# . . . . . . . . . \n",
      "# # # # # . . . . # \n",
      ". . . . . . . # # # \n",
      "# # . . . . . # # . \n",
      "# . # # # # # . . . \n",
      "# # # . . # # . . . \n",
      ". # # . # # # . . . \n",
      "# # # # # # . . . # \n",
      ". . # # # # # # # # \n",
      "# # # # # # # # . . \n"
     ]
    }
   ],
   "source": [
    "from ortools.sat.python import cp_model as cp \n",
    "\n",
    "def AquariumSolver(X, Y, grid):\n",
    "    cell_dict = dict()\n",
    "    \n",
    "    model = cp.CpModel()\n",
    "    solver = cp.CpSolver()\n",
    "    \n",
    "    row_nums = {}\n",
    "    # col_nums = {}\n",
    "    \n",
    "    x = {}\n",
    "    X = list(map(lambda x: int(x), X.split(\",\")))\n",
    "    Y = list(map(lambda x: int(x), Y.split(\",\")))\n",
    "    \n",
    "    X_ = len(X)\n",
    "    Y_ = len(Y)\n",
    "    \n",
    "    for idx, char_ in enumerate(grid):\n",
    "        if char_ not in cell_dict:\n",
    "            cell_dict[char_] = []\n",
    "            row_nums[char_] = []\n",
    "        cell_dict[char_].append((idx // Y_, idx % X_))\n",
    "    \n",
    "    for i in range(0, len(grid), X_):\n",
    "        row_ = grid[i: i + X_]\n",
    "        for key in cell_dict.keys():\n",
    "            row_nums[key].append(row_.count(key))\n",
    "    \n",
    "    # for i in range(Y):\n",
    "    #     col_ = grid[i::X]\n",
    "    #     for key in cell_dict.keys():\n",
    "    #         col_nums[key].append(col_.count(key))\n",
    "    \n",
    "    for i in range(Y_):\n",
    "        for j in cell_dict.keys():\n",
    "            x[i, j] =  model.NewBoolVar(name = f\"x[{i}, {j}]\")\n",
    "    \n",
    "    for idx, val in enumerate(X):\n",
    "        col_ = grid[idx: : X_]\n",
    "        current_col_variables = []\n",
    "        for idx_temp in range(len(col_)):\n",
    "            current_col_variables.append(x[idx_temp, col_[idx_temp]])\n",
    "        model.Add(sum(current_col_variables) == val)\n",
    "    \n",
    "    for idx in range(Y_):\n",
    "        current_row_variables = []\n",
    "        for char_ in cell_dict.keys():\n",
    "            if row_nums[char_][idx] == 0:\n",
    "                x[idx, char_] = 0\n",
    "            current_row_variables.append(row_nums[char_][idx] * x[idx, char_])\n",
    "        model.Add(sum(current_row_variables) == Y[idx])\n",
    "            \n",
    "    \n",
    "    status = solver.Solve(model)\n",
    "    if status == cp.OPTIMAL:\n",
    "        print(\"FOUND OPTIMAL\")\n",
    "        outputline = \"\"\n",
    "        for idx, char_ in enumerate(grid):\n",
    "            if solver.Value(x[idx // X_, char_]) == 1:\n",
    "                outputline += \"# \"\n",
    "            else:\n",
    "                outputline += \". \"\n",
    "            if idx % X_ == X_ - 1:\n",
    "                print(outputline)\n",
    "                outputline = \"\"\n",
    "\n",
    "\n",
    "if __name__ == \"__main__\":\n",
    "    # AquariumSolver(\n",
    "    #     X = \"9,9,7,8,6,4,4,5,6,4\", \n",
    "    #     Y = \"2,5,6,6,7,6,4,9,8,9\", \n",
    "    #     grid = \"AAABBCCCCCDDAABBBCCCAAAAAEBCFGAAHHEEECFGIIHHJJECGGKKHKKEECLMKKNJNOPPLMKNNNNOPPPMKNKOOOQRPPKKKSSOQRTT\")\n",
    "    # AquariumSolver(\n",
    "    #     X = \"3,2,2,2,3,4\", \n",
    "    #     Y = \"3,1,3,2,3,4\", \n",
    "    #     grid = \"AAABBBAAAAABACCDBBCCDDBBCCDEFFEEEEFF\")\n",
    "    \n",
    "    AquariumSolver(\n",
    "        X = \"7,6,7,5,6,6,5,4,3,4\",\n",
    "        Y = \"1,6,3,4,6,5,5,7,8,8\",\n",
    "        grid = \"ABCCCCDDDEABFFFCCDDEGBHHIJJKDDGGLLLMMKDNGOPPQQMDDNRRSPQTTUUUVSSWXYYUUUZaWWXXYYYbaaccXYYYddeeeeeeffgg\"\n",
    "    )\n",
    "    "
   ]
  },
  {
   "cell_type": "markdown",
   "metadata": {},
   "source": [
    "![](../assets/figures/Aquarium1.png)\n",
    "\n",
    "![](../assets/figures/Aquarium2.png)"
   ]
  },
  {
   "cell_type": "markdown",
   "metadata": {},
   "source": []
  }
 ],
 "metadata": {
  "kernelspec": {
   "display_name": "py310",
   "language": "python",
   "name": "python3"
  },
  "language_info": {
   "codemirror_mode": {
    "name": "ipython",
    "version": 3
   },
   "file_extension": ".py",
   "mimetype": "text/x-python",
   "name": "python",
   "nbconvert_exporter": "python",
   "pygments_lexer": "ipython3",
   "version": "3.10.12"
  }
 },
 "nbformat": 4,
 "nbformat_minor": 2
}
