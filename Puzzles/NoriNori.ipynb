{
 "cells": [
  {
   "cell_type": "markdown",
   "metadata": {},
   "source": [
    "# NoriNori（海苔）\n",
    "\n",
    "\n",
    "你需要按如下方式为一些方格涂黑:\n",
    "- 一个区域内有且仅有两个方格被涂黑.\n",
    "- 每个涂黑的方格都是一个多米诺*的一部分. 多米诺可以跨过区域边界.\n",
    "- 多米诺之间不能相连,但是对角线相接是可以的.\n",
    "\n",
    "> 一个多米诺是相邻的两个方格组成的图形 (1x2 or 2x1).\n",
    "\n",
    "-------\n",
    "\n",
    "\n",
    "\n",
    "You need to shade some squares in the following way:\n",
    "- In each region, exactly two squares are shaded black.\n",
    "- Each shaded square is part of a domino*. A domino can span across region boundaries.\n",
    "- Dominos cannot be connected to each other horizontally or vertically, but diagonal adjacency is allowed.\n",
    "\n",
    "> A domino is a shape formed by two adjacent squares (1x2 or 2x1).\n",
    "\n",
    "<https://www.puzzle-norinori.com>\n"
   ]
  },
  {
   "cell_type": "code",
   "execution_count": 1,
   "metadata": {},
   "outputs": [
    {
     "name": "stdout",
     "output_type": "stream",
     "text": [
      "0 0 1 1 0 1 \n",
      "1 1 0 0 0 1 \n",
      "0 0 0 1 1 0 \n",
      "1 1 0 0 0 1 \n",
      "0 0 1 1 0 1 \n",
      "1 1 0 0 0 0 \n",
      "\n",
      "NumConflicts: 0\n",
      "NumBranches: 0\n",
      "WallTime: 0.00481\n"
     ]
    }
   ],
   "source": [
    "from __future__ import print_function\n",
    "from ortools.sat.python import cp_model as cp \n",
    "\n",
    "def norinori_solver(grid_ipt, X, Y):\n",
    "    grid = grid_ipt.split(\",\")\n",
    "    try:\n",
    "        len(grid ) == X * Y\n",
    "    except Exception:\n",
    "        raise(f\"检查输入棋盘的长度 length of grid != {X} * {Y}\")\n",
    "    \n",
    "    model = cp.CpModel()\n",
    "    cages = {}\n",
    "    x = {}\n",
    "    for i in range(Y):\n",
    "        for j in range(X):\n",
    "            x[i, j] = model.NewBoolVar(name = f\"x[{i}, {j}]\")\n",
    "    \n",
    "    for idx, letter in enumerate(grid):\n",
    "        if letter not in cages:\n",
    "            cages[letter] = [x[idx // X, idx % X]]\n",
    "        else:\n",
    "            cages[letter].append(x[idx // X, idx % X])\n",
    "\n",
    "    def norinori_neightbours(pos_x, pos_y):\n",
    "        \n",
    "        res = []\n",
    "        \n",
    "        if pos_x + 1 < Y:\n",
    "            res.append(x[pos_x + 1, pos_y])\n",
    "        \n",
    "        if pos_x - 1 >= 0:\n",
    "            res.append(x[pos_x - 1, pos_y])\n",
    "        \n",
    "        if pos_y + 1 < X:\n",
    "            res.append(x[pos_x, pos_y + 1])\n",
    "        \n",
    "        if pos_y - 1 >= 0:\n",
    "            res.append(x[pos_x, pos_y - 1])\n",
    "        \n",
    "        return res\n",
    "    \n",
    "    for i in range(Y):\n",
    "        for j in range(X):\n",
    "            neighbours = norinori_neightbours(i, j)\n",
    "            model.Add(sum(neighbours) == 1).OnlyEnforceIf(x[i, j])\n",
    "    \n",
    "    for _, value in cages.items():\n",
    "        model.Add(sum(value) == 2)\n",
    "    \n",
    "    \n",
    "    solver = cp.CpSolver()\n",
    "    status = solver.Solve(model)\n",
    "    \n",
    "    if status == cp.OPTIMAL:\n",
    "        for i in range(Y):\n",
    "            for j in range(X):\n",
    "                print(solver.Value(x[i, j]), end=\" \")\n",
    "            print()\n",
    "        print()\n",
    "\n",
    "        print(\"NumConflicts:\", solver.NumConflicts())\n",
    "        print(\"NumBranches:\", solver.NumBranches())\n",
    "        print(\"WallTime:\", solver.WallTime())\n",
    "\n",
    "\n",
    "# 规定一下输入的grid的形状\n",
    "\n",
    "if __name__ == \"__main__\":\n",
    "    grid = \"1,1,1,2,2,2,3,3,1,1,7,7,3,4,4,1,7,8,5,5,4,4,4,8,4,4,4,6,4,8,4,6,6,6,6,6\"\n",
    "    norinori_solver(grid, 6, 6)\n",
    "    \n",
    "    # 这里用逗号隔开是因为真的有可能出现很多很多很多很多宫啊！\n",
    " "
   ]
  },
  {
   "cell_type": "markdown",
   "metadata": {},
   "source": [
    "\n",
    "![](../assets/figures/Norinori1.png)\n",
    "\n",
    "![](../assets/figures/Norinori.png)"
   ]
  },
  {
   "cell_type": "markdown",
   "metadata": {},
   "source": []
  }
 ],
 "metadata": {
  "kernelspec": {
   "display_name": "py310",
   "language": "python",
   "name": "python3"
  },
  "language_info": {
   "codemirror_mode": {
    "name": "ipython",
    "version": 3
   },
   "file_extension": ".py",
   "mimetype": "text/x-python",
   "name": "python",
   "nbconvert_exporter": "python",
   "pygments_lexer": "ipython3",
   "version": "3.10.12"
  }
 },
 "nbformat": 4,
 "nbformat_minor": 2
}
